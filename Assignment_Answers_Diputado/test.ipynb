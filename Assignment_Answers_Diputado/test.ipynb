{
 "cells": [
  {
   "cell_type": "code",
   "execution_count": null,
   "metadata": {},
   "outputs": [],
   "source": [
    "import matplotlib.pyplot as plt\n",
    "import networkx as nx\n",
    "n = 4  # 10 nodes\n",
    "m = 6  # 20 edges\n",
    "\n",
    "# Use seed for reproducibility\n",
    "G = nx.gnm_random_graph(n, m, seed=seed)\n",
    "# Add self-loops to the remaining nodes\n",
    "edgelist = [(1,2),(1,4),(2,2), (2,3),(2,4),(4,4)]\n",
    "G.add_edges_from(edgelist)\n",
    "pos = nx.planar_layout(G)  # Seed for reproducible layout\n",
    "nx.draw(G, pos=pos,with_labels=True)\n",
    "plt.show()"
   ]
  }
 ],
 "metadata": {
  "language_info": {
   "name": "python"
  }
 },
 "nbformat": 4,
 "nbformat_minor": 2
}
